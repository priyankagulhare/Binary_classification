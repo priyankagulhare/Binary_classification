{
 "cells": [
  {
   "cell_type": "markdown",
   "metadata": {},
   "source": [
    "# Import Library"
   ]
  },
  {
   "cell_type": "code",
   "execution_count": 1,
   "metadata": {},
   "outputs": [],
   "source": [
    "import numpy as np\n",
    "import pandas as pd\n",
    "from sklearn.model_selection import train_test_split\n",
    "from sklearn.linear_model import LogisticRegression\n",
    "from sklearn.ensemble import RandomForestClassifier\n",
    "from sklearn.tree import DecisionTreeClassifier\n",
    "from sklearn.svm import SVC\n",
    "from sklearn.metrics import accuracy_score\n",
    "from sklearn import preprocessing"
   ]
  },
  {
   "cell_type": "code",
   "execution_count": 2,
   "metadata": {},
   "outputs": [],
   "source": [
    "#importing lib to ignore the warnings\n",
    "import warnings\n",
    "warnings.filterwarnings(\"ignore\")"
   ]
  },
  {
   "cell_type": "markdown",
   "metadata": {},
   "source": [
    "# Import  file"
   ]
  },
  {
   "cell_type": "code",
   "execution_count": 3,
   "metadata": {},
   "outputs": [
    {
     "name": "stdout",
     "output_type": "stream",
     "text": [
      "Enter file path: C:\\\\Users\\\\pgulhare\\\\OneDrive - Capgemini\\\\ds code\\\\Untitled Folder\\\\.ipynb_checkpoints\\\\\n",
      "File path is C:\\\\Users\\\\pgulhare\\\\OneDrive - Capgemini\\\\ds code\\\\Untitled Folder\\\\.ipynb_checkpoints\\\\\n"
     ]
    },
    {
     "data": {
      "text/html": [
       "<div>\n",
       "<style scoped>\n",
       "    .dataframe tbody tr th:only-of-type {\n",
       "        vertical-align: middle;\n",
       "    }\n",
       "\n",
       "    .dataframe tbody tr th {\n",
       "        vertical-align: top;\n",
       "    }\n",
       "\n",
       "    .dataframe thead th {\n",
       "        text-align: right;\n",
       "    }\n",
       "</style>\n",
       "<table border=\"1\" class=\"dataframe\">\n",
       "  <thead>\n",
       "    <tr style=\"text-align: right;\">\n",
       "      <th></th>\n",
       "      <th>Name</th>\n",
       "      <th>Age</th>\n",
       "      <th>Gender</th>\n",
       "      <th>Salary_M</th>\n",
       "      <th>Dep_Family_Members</th>\n",
       "      <th>Pref_Fuel_Type</th>\n",
       "      <th>Location</th>\n",
       "      <th>Sold</th>\n",
       "    </tr>\n",
       "  </thead>\n",
       "  <tbody>\n",
       "    <tr>\n",
       "      <th>0</th>\n",
       "      <td>Mohan</td>\n",
       "      <td>24</td>\n",
       "      <td>Male</td>\n",
       "      <td>70000</td>\n",
       "      <td>0</td>\n",
       "      <td>Diesel</td>\n",
       "      <td>Delhi</td>\n",
       "      <td>0.0</td>\n",
       "    </tr>\n",
       "    <tr>\n",
       "      <th>1</th>\n",
       "      <td>Saurabh</td>\n",
       "      <td>43</td>\n",
       "      <td>Male</td>\n",
       "      <td>55000</td>\n",
       "      <td>1</td>\n",
       "      <td>Petrol</td>\n",
       "      <td>Bangalore</td>\n",
       "      <td>1.0</td>\n",
       "    </tr>\n",
       "    <tr>\n",
       "      <th>2</th>\n",
       "      <td>Nilesh</td>\n",
       "      <td>36</td>\n",
       "      <td>Male</td>\n",
       "      <td>45000</td>\n",
       "      <td>2</td>\n",
       "      <td>Petrol</td>\n",
       "      <td>Chennai</td>\n",
       "      <td>0.0</td>\n",
       "    </tr>\n",
       "    <tr>\n",
       "      <th>3</th>\n",
       "      <td>Viart</td>\n",
       "      <td>30</td>\n",
       "      <td>Male</td>\n",
       "      <td>66000</td>\n",
       "      <td>0</td>\n",
       "      <td>Petrol</td>\n",
       "      <td>Delhi</td>\n",
       "      <td>1.0</td>\n",
       "    </tr>\n",
       "    <tr>\n",
       "      <th>4</th>\n",
       "      <td>Sachin</td>\n",
       "      <td>42</td>\n",
       "      <td>Male</td>\n",
       "      <td>71000</td>\n",
       "      <td>2</td>\n",
       "      <td>Diesel</td>\n",
       "      <td>Bangalore</td>\n",
       "      <td>1.0</td>\n",
       "    </tr>\n",
       "  </tbody>\n",
       "</table>\n",
       "</div>"
      ],
      "text/plain": [
       "      Name  Age Gender  Salary_M  Dep_Family_Members Pref_Fuel_Type  \\\n",
       "0    Mohan   24   Male     70000                   0         Diesel   \n",
       "1  Saurabh   43   Male     55000                   1         Petrol   \n",
       "2   Nilesh   36   Male     45000                   2         Petrol   \n",
       "3    Viart   30   Male     66000                   0         Petrol   \n",
       "4   Sachin   42   Male     71000                   2         Diesel   \n",
       "\n",
       "    Location  Sold  \n",
       "0      Delhi   0.0  \n",
       "1  Bangalore   1.0  \n",
       "2    Chennai   0.0  \n",
       "3      Delhi   1.0  \n",
       "4  Bangalore   1.0  "
      ]
     },
     "execution_count": 3,
     "metadata": {},
     "output_type": "execute_result"
    }
   ],
   "source": [
    "def read_file(path):\n",
    "    file_path = path + 'SAI_Sesha_Alstom_R2' + '.txt'\n",
    "    file = pd.read_csv(file_path)\n",
    "    return file\n",
    "\n",
    "#enter the file path. e.g. C:\\\\Users\\\\priyanka\\\\ or C:/Users/priyanka/\n",
    "#default file name is SAI_Sesha_Alstom_R2.txt\n",
    "path = input(\"Enter file path: \")\n",
    "print(\"File path is \" + str(path))\n",
    "\n",
    "file = read_file(path)\n",
    "file.head()"
   ]
  },
  {
   "cell_type": "markdown",
   "metadata": {},
   "source": [
    "# Preprocessing"
   ]
  },
  {
   "cell_type": "code",
   "execution_count": 4,
   "metadata": {},
   "outputs": [],
   "source": [
    "#replacing the null value in Sold\n",
    "\n",
    "file['derived_sold'] = np.where(( (file['Gender']== 'Female') & (file['Salary_M']>40000) ) , 1.0, 0)\n",
    "file['Sold'] = file.Sold.fillna(file.derived_sold)\n",
    "\n",
    "#drop the unrequired columns\n",
    "file.drop(columns = ['Name','derived_sold'],  inplace=True)\n",
    "\n",
    "#converting categorical into numerical\n",
    "file['Gender'] = file['Gender'].apply(lambda x:1 if x=='Male' else 0)\n",
    "file['Pref_Fuel_Type'] = file['Pref_Fuel_Type'].apply(lambda x:1 if x=='Petrol' else 0)\n",
    "\n",
    "#encoding the multivariable feature\n",
    "file = pd.get_dummies(file, prefix=['Loc', 'Mem'], columns=['Location', 'Dep_Family_Members'], drop_first=True)\n"
   ]
  },
  {
   "cell_type": "code",
   "execution_count": 5,
   "metadata": {},
   "outputs": [],
   "source": [
    "#feature scaling for Age, Salary_M\n",
    "x = file.iloc[:,[0,2]]\n",
    "minmax_sc = preprocessing.MinMaxScaler(feature_range=(0,1))\n",
    "x_scalar =  minmax_sc.fit_transform(x)\n",
    "\n",
    "#Converting Numpy into Dataframe\n",
    "x_scalar = pd.DataFrame(data = x_scalar, columns = ['Age','Salary_M'])\n",
    "\n",
    "#merging two dataframes\n",
    "file = pd.concat([file, x_scalar], axis=1)"
   ]
  },
  {
   "cell_type": "code",
   "execution_count": 6,
   "metadata": {},
   "outputs": [
    {
     "data": {
      "text/html": [
       "<div>\n",
       "<style scoped>\n",
       "    .dataframe tbody tr th:only-of-type {\n",
       "        vertical-align: middle;\n",
       "    }\n",
       "\n",
       "    .dataframe tbody tr th {\n",
       "        vertical-align: top;\n",
       "    }\n",
       "\n",
       "    .dataframe thead th {\n",
       "        text-align: right;\n",
       "    }\n",
       "</style>\n",
       "<table border=\"1\" class=\"dataframe\">\n",
       "  <thead>\n",
       "    <tr style=\"text-align: right;\">\n",
       "      <th></th>\n",
       "      <th>Age</th>\n",
       "      <th>Gender</th>\n",
       "      <th>Salary_M</th>\n",
       "      <th>Pref_Fuel_Type</th>\n",
       "      <th>Sold</th>\n",
       "      <th>Loc_Chennai</th>\n",
       "      <th>Loc_Delhi</th>\n",
       "      <th>Mem_1</th>\n",
       "      <th>Mem_2</th>\n",
       "      <th>Mem_3</th>\n",
       "      <th>Mem_4</th>\n",
       "      <th>Mem_5</th>\n",
       "      <th>Age</th>\n",
       "      <th>Salary_M</th>\n",
       "    </tr>\n",
       "  </thead>\n",
       "  <tbody>\n",
       "    <tr>\n",
       "      <th>0</th>\n",
       "      <td>24</td>\n",
       "      <td>1</td>\n",
       "      <td>70000</td>\n",
       "      <td>0</td>\n",
       "      <td>0.0</td>\n",
       "      <td>0</td>\n",
       "      <td>1</td>\n",
       "      <td>0</td>\n",
       "      <td>0</td>\n",
       "      <td>0</td>\n",
       "      <td>0</td>\n",
       "      <td>0</td>\n",
       "      <td>0.03125</td>\n",
       "      <td>0.626667</td>\n",
       "    </tr>\n",
       "    <tr>\n",
       "      <th>1</th>\n",
       "      <td>43</td>\n",
       "      <td>1</td>\n",
       "      <td>55000</td>\n",
       "      <td>1</td>\n",
       "      <td>1.0</td>\n",
       "      <td>0</td>\n",
       "      <td>0</td>\n",
       "      <td>1</td>\n",
       "      <td>0</td>\n",
       "      <td>0</td>\n",
       "      <td>0</td>\n",
       "      <td>0</td>\n",
       "      <td>0.62500</td>\n",
       "      <td>0.426667</td>\n",
       "    </tr>\n",
       "    <tr>\n",
       "      <th>2</th>\n",
       "      <td>36</td>\n",
       "      <td>1</td>\n",
       "      <td>45000</td>\n",
       "      <td>1</td>\n",
       "      <td>0.0</td>\n",
       "      <td>1</td>\n",
       "      <td>0</td>\n",
       "      <td>0</td>\n",
       "      <td>1</td>\n",
       "      <td>0</td>\n",
       "      <td>0</td>\n",
       "      <td>0</td>\n",
       "      <td>0.40625</td>\n",
       "      <td>0.293333</td>\n",
       "    </tr>\n",
       "    <tr>\n",
       "      <th>3</th>\n",
       "      <td>30</td>\n",
       "      <td>1</td>\n",
       "      <td>66000</td>\n",
       "      <td>1</td>\n",
       "      <td>1.0</td>\n",
       "      <td>0</td>\n",
       "      <td>1</td>\n",
       "      <td>0</td>\n",
       "      <td>0</td>\n",
       "      <td>0</td>\n",
       "      <td>0</td>\n",
       "      <td>0</td>\n",
       "      <td>0.21875</td>\n",
       "      <td>0.573333</td>\n",
       "    </tr>\n",
       "    <tr>\n",
       "      <th>4</th>\n",
       "      <td>42</td>\n",
       "      <td>1</td>\n",
       "      <td>71000</td>\n",
       "      <td>0</td>\n",
       "      <td>1.0</td>\n",
       "      <td>0</td>\n",
       "      <td>0</td>\n",
       "      <td>0</td>\n",
       "      <td>1</td>\n",
       "      <td>0</td>\n",
       "      <td>0</td>\n",
       "      <td>0</td>\n",
       "      <td>0.59375</td>\n",
       "      <td>0.640000</td>\n",
       "    </tr>\n",
       "  </tbody>\n",
       "</table>\n",
       "</div>"
      ],
      "text/plain": [
       "   Age  Gender  Salary_M  Pref_Fuel_Type  Sold  Loc_Chennai  Loc_Delhi  Mem_1  \\\n",
       "0   24       1     70000               0   0.0            0          1      0   \n",
       "1   43       1     55000               1   1.0            0          0      1   \n",
       "2   36       1     45000               1   0.0            1          0      0   \n",
       "3   30       1     66000               1   1.0            0          1      0   \n",
       "4   42       1     71000               0   1.0            0          0      0   \n",
       "\n",
       "   Mem_2  Mem_3  Mem_4  Mem_5      Age  Salary_M  \n",
       "0      0      0      0      0  0.03125  0.626667  \n",
       "1      0      0      0      0  0.62500  0.426667  \n",
       "2      1      0      0      0  0.40625  0.293333  \n",
       "3      0      0      0      0  0.21875  0.573333  \n",
       "4      1      0      0      0  0.59375  0.640000  "
      ]
     },
     "execution_count": 6,
     "metadata": {},
     "output_type": "execute_result"
    }
   ],
   "source": [
    "file.head()"
   ]
  },
  {
   "cell_type": "markdown",
   "metadata": {},
   "source": [
    "# Splitting X and y"
   ]
  },
  {
   "cell_type": "code",
   "execution_count": 7,
   "metadata": {},
   "outputs": [],
   "source": [
    "# Splitting X and y\n",
    "X = file.drop(\"Sold\", axis=1)\n",
    "y = file[\"Sold\"]\n",
    "\n",
    "#train_test split\n",
    "X_train, X_test, y_train, y_test = train_test_split(X, y, test_size = .30, random_state =24)"
   ]
  },
  {
   "cell_type": "code",
   "execution_count": 8,
   "metadata": {},
   "outputs": [
    {
     "name": "stdout",
     "output_type": "stream",
     "text": [
      "y_train unique value count is :0.0    9\n",
      "1.0    6\n",
      "Name: Sold, dtype: int64\n",
      "y_train unique value count is :0.0    4\n",
      "1.0    3\n",
      "Name: Sold, dtype: int64\n"
     ]
    }
   ],
   "source": [
    "print(\"y_train unique value count is :\" +str(y_train.value_counts()))\n",
    "print(\"y_train unique value count is :\" +str(y_test.value_counts()))"
   ]
  },
  {
   "cell_type": "markdown",
   "metadata": {},
   "source": [
    "# ML Algorithm"
   ]
  },
  {
   "cell_type": "markdown",
   "metadata": {},
   "source": [
    "# Random Forest"
   ]
  },
  {
   "cell_type": "code",
   "execution_count": 9,
   "metadata": {},
   "outputs": [
    {
     "name": "stdout",
     "output_type": "stream",
     "text": [
      "Best random_state is : 77\n",
      "Random Forest  is: 100.0 %\n"
     ]
    }
   ],
   "source": [
    "acc = 0\n",
    "ran_state =0\n",
    "\n",
    "for i in range(100):\n",
    "    rfc = RandomForestClassifier(random_state=i)\n",
    "    rfc.fit(X_train,y_train)\n",
    "    y_pred = rfc.predict(X_test)\n",
    "    rfc_accuracy = accuracy_score(y_pred,y_test)\n",
    "    if(rfc_accuracy>acc):\n",
    "        acc = rfc_accuracy\n",
    "        ran_state = i\n",
    "print(\"Best random_state is :\", str(ran_state))\n",
    "rf = RandomForestClassifier(random_state=ran_state)\n",
    "rf.fit(X_train,y_train)\n",
    "y_pred = rf.predict(X_test)\n",
    "rf_accuracy = round(accuracy_score(y_pred,y_test)*100,2)\n",
    "print(\"Random Forest  is: \"+str(rf_accuracy)+\" %\")\n"
   ]
  },
  {
   "cell_type": "markdown",
   "metadata": {},
   "source": [
    "# Decision Tree"
   ]
  },
  {
   "cell_type": "code",
   "execution_count": 10,
   "metadata": {},
   "outputs": [
    {
     "name": "stdout",
     "output_type": "stream",
     "text": [
      "Best max_depth is : 2\n",
      "Best random_state is : 0\n",
      "Decision Tree  is: 85.71 %\n"
     ]
    }
   ],
   "source": [
    "acc = 0\n",
    "ran_state =0\n",
    "max_dep = 1\n",
    "\n",
    "for i in range(1,9):\n",
    "    for j in range(100):\n",
    "        dtc = DecisionTreeClassifier(criterion=\"entropy\", random_state = j,  max_depth = i)\n",
    "        dtc.fit(X_train,y_train)\n",
    "        y_pred = dtc.predict(X_test)\n",
    "        dtc_accuracy = accuracy_score(y_pred,y_test)\n",
    "        if(dtc_accuracy>acc):\n",
    "            acc = dtc_accuracy\n",
    "            max_dep = i\n",
    "            ran_state = j\n",
    "            #print(i,\":\",j)\n",
    "\n",
    "print(\"Best max_depth is :\", str(max_dep))\n",
    "print(\"Best random_state is :\", str(ran_state))\n",
    "dt = DecisionTreeClassifier(criterion=\"entropy\", random_state = ran_state,  max_depth = max_dep)\n",
    "dt.fit(X_train,y_train)\n",
    "y_pred = dt.predict(X_test)\n",
    "dt_accuracy = round(accuracy_score(y_pred,y_test)*100,2)\n",
    "print(\"Decision Tree  is: \"+str(dt_accuracy)+\" %\")"
   ]
  },
  {
   "cell_type": "markdown",
   "metadata": {},
   "source": [
    "# Logistic Regression"
   ]
  },
  {
   "cell_type": "code",
   "execution_count": 11,
   "metadata": {},
   "outputs": [
    {
     "name": "stdout",
     "output_type": "stream",
     "text": [
      "Logistic Regression accuracy is: 57.14 %\n"
     ]
    }
   ],
   "source": [
    "lg = LogisticRegression()\n",
    "lg.fit(X_train, y_train)\n",
    "y_pred = lg.predict(X_test)\n",
    "lg_accuracy = round(accuracy_score(y_pred,y_test)*100,2)\n",
    "print(\"Logistic Regression accuracy is: \"+str(lg_accuracy)+\" %\")"
   ]
  },
  {
   "cell_type": "markdown",
   "metadata": {},
   "source": [
    "# Support Vector Machine"
   ]
  },
  {
   "cell_type": "code",
   "execution_count": 12,
   "metadata": {},
   "outputs": [
    {
     "name": "stdout",
     "output_type": "stream",
     "text": [
      "Support Vector Machine accuracy is: 57.14 %\n"
     ]
    }
   ],
   "source": [
    "svm = SVC(gamma='auto')\n",
    "svm.fit(X_train, y_train)\n",
    "y_pred = svm.predict(X_test)\n",
    "svm_accuracy = round(accuracy_score(y_pred,y_test)*100,2)\n",
    "print(\"Support Vector Machine accuracy is: \"+str(svm_accuracy)+\" %\")"
   ]
  },
  {
   "cell_type": "markdown",
   "metadata": {},
   "source": [
    "# Model Accuracy consolidated"
   ]
  },
  {
   "cell_type": "code",
   "execution_count": 13,
   "metadata": {},
   "outputs": [
    {
     "data": {
      "text/html": [
       "<div>\n",
       "<style scoped>\n",
       "    .dataframe tbody tr th:only-of-type {\n",
       "        vertical-align: middle;\n",
       "    }\n",
       "\n",
       "    .dataframe tbody tr th {\n",
       "        vertical-align: top;\n",
       "    }\n",
       "\n",
       "    .dataframe thead th {\n",
       "        text-align: right;\n",
       "    }\n",
       "</style>\n",
       "<table border=\"1\" class=\"dataframe\">\n",
       "  <thead>\n",
       "    <tr style=\"text-align: right;\">\n",
       "      <th></th>\n",
       "      <th>Model</th>\n",
       "    </tr>\n",
       "    <tr>\n",
       "      <th>Accuracy</th>\n",
       "      <th></th>\n",
       "    </tr>\n",
       "  </thead>\n",
       "  <tbody>\n",
       "    <tr>\n",
       "      <th>100.00</th>\n",
       "      <td>RandomForest</td>\n",
       "    </tr>\n",
       "    <tr>\n",
       "      <th>85.71</th>\n",
       "      <td>Decision Tree</td>\n",
       "    </tr>\n",
       "    <tr>\n",
       "      <th>57.14</th>\n",
       "      <td>LogisticRegression</td>\n",
       "    </tr>\n",
       "    <tr>\n",
       "      <th>57.14</th>\n",
       "      <td>Support Vector Machine</td>\n",
       "    </tr>\n",
       "  </tbody>\n",
       "</table>\n",
       "</div>"
      ],
      "text/plain": [
       "                           Model\n",
       "Accuracy                        \n",
       "100.00              RandomForest\n",
       "85.71              Decision Tree\n",
       "57.14         LogisticRegression\n",
       "57.14     Support Vector Machine"
      ]
     },
     "execution_count": 13,
     "metadata": {},
     "output_type": "execute_result"
    }
   ],
   "source": [
    "df_result = pd.DataFrame({\n",
    "    'Model':    ['RandomForest', 'LogisticRegression', 'Support Vector Machine', 'Decision Tree'],\n",
    "    'Accuracy': [rf_accuracy, lg_accuracy, svm_accuracy, dt_accuracy]})\n",
    "finalresult = df_result.sort_values(by='Accuracy', ascending=False)\n",
    "finalresult = finalresult.set_index('Accuracy')\n",
    "finalresult"
   ]
  }
 ],
 "metadata": {
  "kernelspec": {
   "display_name": "Python 3",
   "language": "python",
   "name": "python3"
  },
  "language_info": {
   "codemirror_mode": {
    "name": "ipython",
    "version": 3
   },
   "file_extension": ".py",
   "mimetype": "text/x-python",
   "name": "python",
   "nbconvert_exporter": "python",
   "pygments_lexer": "ipython3",
   "version": "3.6.4"
  }
 },
 "nbformat": 4,
 "nbformat_minor": 2
}
